{
 "cells": [
  {
   "attachments": {},
   "cell_type": "markdown",
   "metadata": {},
   "source": [
    "# Projekt MMM Zadanie 14\n"
   ]
  },
  {
   "cell_type": "code",
   "execution_count": 58,
   "metadata": {},
   "outputs": [],
   "source": [
    "import matplotlib.pyplot as plt\n",
    "import math\n",
    "import ipywidgets as widgets\n",
    "from IPython.display import display"
   ]
  },
  {
   "attachments": {},
   "cell_type": "markdown",
   "metadata": {},
   "source": [
    "### Funkcja przybliżenia różniczki"
   ]
  },
  {
   "cell_type": "code",
   "execution_count": null,
   "metadata": {},
   "outputs": [],
   "source": []
  },
  {
   "attachments": {},
   "cell_type": "markdown",
   "metadata": {},
   "source": [
    "### Ustawienie parametrów symulacji\n"
   ]
  },
  {
   "cell_type": "code",
   "execution_count": 112,
   "metadata": {},
   "outputs": [
    {
     "data": {
      "application/vnd.jupyter.widget-view+json": {
       "model_id": "cf76d81802b848e5961e2e886853ab41",
       "version_major": 2,
       "version_minor": 0
      },
      "text/plain": [
       "FloatText(value=1.0, description='Moment bezwładności 1:', style=DescriptionStyle(description_width='initial')…"
      ]
     },
     "metadata": {},
     "output_type": "display_data"
    },
    {
     "data": {
      "application/vnd.jupyter.widget-view+json": {
       "model_id": "8efffddc8f7446dcaa308f2b57cd7e1d",
       "version_major": 2,
       "version_minor": 0
      },
      "text/plain": [
       "FloatText(value=1.0, description='Moment bezwładności 2:', style=DescriptionStyle(description_width='initial')…"
      ]
     },
     "metadata": {},
     "output_type": "display_data"
    },
    {
     "data": {
      "application/vnd.jupyter.widget-view+json": {
       "model_id": "555656ded16f4ff6b739bfe9232a4fb5",
       "version_major": 2,
       "version_minor": 0
      },
      "text/plain": [
       "FloatText(value=1.0, description='Ilość zębów pierwszej przekładni:', style=DescriptionStyle(description_width…"
      ]
     },
     "metadata": {},
     "output_type": "display_data"
    },
    {
     "data": {
      "application/vnd.jupyter.widget-view+json": {
       "model_id": "4174fcf6fcc84ff2a9c067f475beb252",
       "version_major": 2,
       "version_minor": 0
      },
      "text/plain": [
       "FloatText(value=1.0, description='Ilość zębów drugiej przekładni:', style=DescriptionStyle(description_width='…"
      ]
     },
     "metadata": {},
     "output_type": "display_data"
    },
    {
     "data": {
      "application/vnd.jupyter.widget-view+json": {
       "model_id": "a8f2b8b37d3b442ead925634bace528c",
       "version_major": 2,
       "version_minor": 0
      },
      "text/plain": [
       "FloatText(value=0.0, description='Współczynnik tarcia lepkiego 1:', style=DescriptionStyle(description_width='…"
      ]
     },
     "metadata": {},
     "output_type": "display_data"
    },
    {
     "data": {
      "application/vnd.jupyter.widget-view+json": {
       "model_id": "d2adca97f636447eb688d6fcf887d06e",
       "version_major": 2,
       "version_minor": 0
      },
      "text/plain": [
       "FloatText(value=0.0, description='Współczynnik tarcia lepkiego 2:', style=DescriptionStyle(description_width='…"
      ]
     },
     "metadata": {},
     "output_type": "display_data"
    },
    {
     "data": {
      "application/vnd.jupyter.widget-view+json": {
       "model_id": "4e939550158e45fa9060f5da275ff29f",
       "version_major": 2,
       "version_minor": 0
      },
      "text/plain": [
       "FloatText(value=1.0, description='Współczynnik sprężystości:', style=DescriptionStyle(description_width='initi…"
      ]
     },
     "metadata": {},
     "output_type": "display_data"
    },
    {
     "data": {
      "application/vnd.jupyter.widget-view+json": {
       "model_id": "9fec4c4fe94541eaad29c4351d64080b",
       "version_major": 2,
       "version_minor": 0
      },
      "text/plain": [
       "FloatText(value=1.0, description='Moment wejściowy:', style=DescriptionStyle(description_width='initial'))"
      ]
     },
     "metadata": {},
     "output_type": "display_data"
    },
    {
     "data": {
      "application/vnd.jupyter.widget-view+json": {
       "model_id": "4132f4541e0b4f79acf7f6072e617a9d",
       "version_major": 2,
       "version_minor": 0
      },
      "text/plain": [
       "FloatText(value=1.0, description='Krok symulacji w sekundach:', style=DescriptionStyle(description_width='init…"
      ]
     },
     "metadata": {},
     "output_type": "display_data"
    },
    {
     "data": {
      "application/vnd.jupyter.widget-view+json": {
       "model_id": "fed61bf420d54394b532a02b8d5eb123",
       "version_major": 2,
       "version_minor": 0
      },
      "text/plain": [
       "FloatText(value=1.0, description='Sekunda startowa:', style=DescriptionStyle(description_width='initial'))"
      ]
     },
     "metadata": {},
     "output_type": "display_data"
    },
    {
     "data": {
      "application/vnd.jupyter.widget-view+json": {
       "model_id": "123a62c412ac4a948f8beb9329f3a0c9",
       "version_major": 2,
       "version_minor": 0
      },
      "text/plain": [
       "FloatText(value=1.0, description='Sekunda końcowa:', style=DescriptionStyle(description_width='initial'))"
      ]
     },
     "metadata": {},
     "output_type": "display_data"
    },
    {
     "data": {
      "application/vnd.jupyter.widget-view+json": {
       "model_id": "4f984ed176b74c25b9e1d6acf721c2fe",
       "version_major": 2,
       "version_minor": 0
      },
      "text/plain": [
       "interactive(children=(Dropdown(description='Typ', options=('Prostokąt', 'Trójkąt', 'Harmoniczny'), value='Pros…"
      ]
     },
     "metadata": {},
     "output_type": "display_data"
    }
   ],
   "source": [
    "i1 = widgets.FloatText(\n",
    "    style= {'description_width': 'initial'},\n",
    "    value=1,\n",
    "    description='Moment bezwładności 1:',\n",
    "    disabled=False\n",
    ")\n",
    "i2 = widgets.FloatText(\n",
    "    style= {'description_width': 'initial'},\n",
    "    value=1,\n",
    "    description='Moment bezwładności 2:',\n",
    "    disabled=False\n",
    ")\n",
    "n1 = widgets.FloatText(\n",
    "    style= {'description_width': 'initial'},\n",
    "    value=1,\n",
    "    description='Ilość zębów pierwszej przekładni:',\n",
    "    disabled=False\n",
    ")\n",
    "n2 = widgets.FloatText(\n",
    "    style= {'description_width': 'initial'},\n",
    "    value=1,\n",
    "    description='Ilość zębów drugiej przekładni:',\n",
    "    disabled=False\n",
    ")\n",
    "b1 =widgets.FloatText(\n",
    "    style= {'description_width': 'initial'},\n",
    "    value=0,\n",
    "    description='Współczynnik tarcia lepkiego 1:',\n",
    "    disabled=False\n",
    ")\n",
    "b2 = widgets.FloatText(\n",
    "    style= {'description_width': 'initial'},\n",
    "    value=0,\n",
    "    description='Współczynnik tarcia lepkiego 2:',\n",
    "    disabled=False\n",
    ")\n",
    "k = widgets.FloatText(\n",
    "    style= {'description_width': 'initial'},\n",
    "    value=1,\n",
    "    description='Współczynnik sprężystości:',\n",
    "    disabled=False\n",
    ")\n",
    "tau = widgets.FloatText(\n",
    "    style= {'description_width': 'initial'},\n",
    "    value=1,\n",
    "    description='Moment wejściowy:',\n",
    "    disabled=False\n",
    ")\n",
    "step = widgets.FloatText(\n",
    "    style= {'description_width': 'initial'},\n",
    "    value=1,\n",
    "    description='Krok symulacji w sekundach:',\n",
    "    disabled=False\n",
    ")\n",
    "time1 = widgets.FloatText(\n",
    "    style= {'description_width': 'initial'},\n",
    "    value=1,\n",
    "    description='Sekunda startowa:',\n",
    "    disabled=False\n",
    ")\n",
    "time2 = widgets.FloatText(\n",
    "    style= {'description_width': 'initial'},\n",
    "    value=1,\n",
    "    description='Sekunda końcowa:',\n",
    "    disabled=False\n",
    ")\n",
    "\n",
    "display(i1, i2, n1, n2 , b1 , b2, k , tau ,step , time1 , time2)\n",
    "\n",
    "fill = widgets.FloatText(\n",
    "    style= {'description_width': 'initial'},\n",
    "    value=1,\n",
    "    description='Wypełnienie:',\n",
    "    disabled=False\n",
    ")\n",
    "\n",
    "freq = widgets.FloatText(\n",
    "    style= {'description_width': 'initial'},\n",
    "    value=1,\n",
    "    description='Częstotliwość:',\n",
    "    disabled=False\n",
    ")\n",
    "\n",
    "amp = widgets.FloatText(\n",
    "    style= {'description_width': 'initial'},\n",
    "    value=1,\n",
    "    description='Amplituda:',\n",
    "    disabled=False\n",
    ")\n",
    "\n",
    "phase = widgets.FloatText(\n",
    "    style= {'description_width': 'initial'},\n",
    "    value=1,\n",
    "    description='Faza:',\n",
    "    disabled=False\n",
    ")\n",
    "\n",
    "def f(Typ):\n",
    "    if Typ == 'Prostokąt':\n",
    "        display(fill)\n",
    "        return Typ\n",
    "    elif Typ == 'Harmoniczny':\n",
    "        display(freq, amp, phase)\n",
    "\n",
    "input = widgets.interact(f, Typ=['Prostokąt','Trójkąt', 'Harmoniczny']);\n",
    "\n"
   ]
  },
  {
   "cell_type": "code",
   "execution_count": 117,
   "metadata": {},
   "outputs": [
    {
     "name": "stdout",
     "output_type": "stream",
     "text": [
      "FloatText(value=2.0, description='Sekunda końcowa:', style=DescriptionStyle(description_width='initial'))\n"
     ]
    },
    {
     "ename": "TypeError",
     "evalue": "unsupported operand type(s) for *: 'float' and 'FloatText'",
     "output_type": "error",
     "traceback": [
      "\u001b[1;31m---------------------------------------------------------------------------\u001b[0m",
      "\u001b[1;31mTypeError\u001b[0m                                 Traceback (most recent call last)",
      "Cell \u001b[1;32mIn[117], line 3\u001b[0m\n\u001b[0;32m      1\u001b[0m \u001b[39mprint\u001b[39m(time2)\n\u001b[0;32m      2\u001b[0m \u001b[39mfor\u001b[39;00m x \u001b[39min\u001b[39;00m \u001b[39mrange\u001b[39m(\u001b[39mint\u001b[39m(time2\u001b[39m.\u001b[39mvalue\u001b[39m/\u001b[39mstep\u001b[39m.\u001b[39mvalue)):\n\u001b[1;32m----> 3\u001b[0m     \u001b[39mprint\u001b[39m(amp\u001b[39m*\u001b[39mmath\u001b[39m.\u001b[39msin(\u001b[39mfloat\u001b[39m(\u001b[39m2\u001b[39;49m\u001b[39m*\u001b[39;49mmath\u001b[39m.\u001b[39;49mpi\u001b[39m*\u001b[39;49mfreq\u001b[39m*\u001b[39mx\u001b[39m*\u001b[39mtime2\u001b[39m.\u001b[39mvalue\u001b[39m/\u001b[39mstep\u001b[39m.\u001b[39mvalue)))\n",
      "\u001b[1;31mTypeError\u001b[0m: unsupported operand type(s) for *: 'float' and 'FloatText'"
     ]
    }
   ],
   "source": [
    "print(time2)\n",
    "for x in range(int(time2.value/step.value)):\n",
    "    print(amp*math.sin(float(2*math.pi*float(x*freq*time2.value/step.value))))"
   ]
  }
 ],
 "metadata": {
  "kernelspec": {
   "display_name": "Python 3",
   "language": "python",
   "name": "python3"
  },
  "language_info": {
   "codemirror_mode": {
    "name": "ipython",
    "version": 3
   },
   "file_extension": ".py",
   "mimetype": "text/x-python",
   "name": "python",
   "nbconvert_exporter": "python",
   "pygments_lexer": "ipython3",
   "version": "3.8.0"
  },
  "orig_nbformat": 4,
  "vscode": {
   "interpreter": {
    "hash": "2b68180c4eb022a4b94576eebab5ad299a0c046499659638d77580c4e0e572c1"
   }
  }
 },
 "nbformat": 4,
 "nbformat_minor": 2
}
