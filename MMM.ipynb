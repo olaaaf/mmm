{
 "cells": [
  {
   "attachments": {},
   "cell_type": "markdown",
   "metadata": {},
   "source": [
    "# Projekt MMM Zadanie 14\n"
   ]
  },
  {
   "cell_type": "code",
   "execution_count": 1,
   "metadata": {},
   "outputs": [],
   "source": [
    "import matplotlib.pyplot as plt\n",
    "import math\n",
    "import ipywidgets as widgets\n",
    "from IPython.display import display"
   ]
  },
  {
   "attachments": {},
   "cell_type": "markdown",
   "metadata": {},
   "source": [
    "### Ustawienie parametrów symulacji\n"
   ]
  },
  {
   "cell_type": "code",
   "execution_count": 2,
   "metadata": {},
   "outputs": [
    {
     "data": {
      "application/vnd.jupyter.widget-view+json": {
       "model_id": "3b6ff350c64c43e9af26c33971755db9",
       "version_major": 2,
       "version_minor": 0
      },
      "text/plain": [
       "FloatText(value=1.0, description='Moment bezwładności 1:', style=DescriptionStyle(description_width='initial')…"
      ]
     },
     "metadata": {},
     "output_type": "display_data"
    },
    {
     "data": {
      "application/vnd.jupyter.widget-view+json": {
       "model_id": "dacb452a237546cea7ae449bf59813cf",
       "version_major": 2,
       "version_minor": 0
      },
      "text/plain": [
       "FloatText(value=1.0, description='Moment bezwładności 2:', style=DescriptionStyle(description_width='initial')…"
      ]
     },
     "metadata": {},
     "output_type": "display_data"
    },
    {
     "data": {
      "application/vnd.jupyter.widget-view+json": {
       "model_id": "e7de31c23cc44693a9ebcd9e7f7cef29",
       "version_major": 2,
       "version_minor": 0
      },
      "text/plain": [
       "FloatText(value=1.0, description='Ilość zębów pierwszej przekładni:', style=DescriptionStyle(description_width…"
      ]
     },
     "metadata": {},
     "output_type": "display_data"
    },
    {
     "data": {
      "application/vnd.jupyter.widget-view+json": {
       "model_id": "f9e59d009fc04e1a96fd9952ae815fe3",
       "version_major": 2,
       "version_minor": 0
      },
      "text/plain": [
       "FloatText(value=1.0, description='Ilość zębów drugiej przekładni:', style=DescriptionStyle(description_width='…"
      ]
     },
     "metadata": {},
     "output_type": "display_data"
    },
    {
     "data": {
      "application/vnd.jupyter.widget-view+json": {
       "model_id": "16cacf86a53242af9fcf7ecbf70be1c8",
       "version_major": 2,
       "version_minor": 0
      },
      "text/plain": [
       "FloatText(value=0.0, description='Współczynnik tarcia lepkiego 1:', style=DescriptionStyle(description_width='…"
      ]
     },
     "metadata": {},
     "output_type": "display_data"
    },
    {
     "data": {
      "application/vnd.jupyter.widget-view+json": {
       "model_id": "17c106b6526d497594399eeee003e25a",
       "version_major": 2,
       "version_minor": 0
      },
      "text/plain": [
       "FloatText(value=0.0, description='Współczynnik tarcia lepkiego 2:', style=DescriptionStyle(description_width='…"
      ]
     },
     "metadata": {},
     "output_type": "display_data"
    },
    {
     "data": {
      "application/vnd.jupyter.widget-view+json": {
       "model_id": "53e1c263c05c49668e4c5bba5d4fa921",
       "version_major": 2,
       "version_minor": 0
      },
      "text/plain": [
       "FloatText(value=1.0, description='Współczynnik sprężystości:', style=DescriptionStyle(description_width='initi…"
      ]
     },
     "metadata": {},
     "output_type": "display_data"
    },
    {
     "data": {
      "application/vnd.jupyter.widget-view+json": {
       "model_id": "bbc63da4690b452a82b98db2cd960466",
       "version_major": 2,
       "version_minor": 0
      },
      "text/plain": [
       "FloatText(value=1.0, description='Moment wejściowy:', style=DescriptionStyle(description_width='initial'))"
      ]
     },
     "metadata": {},
     "output_type": "display_data"
    },
    {
     "data": {
      "application/vnd.jupyter.widget-view+json": {
       "model_id": "1a0f1687dffd4faea7a156b4425cbe21",
       "version_major": 2,
       "version_minor": 0
      },
      "text/plain": [
       "FloatText(value=1.0, description='Krok symulacji w sekundach:', style=DescriptionStyle(description_width='init…"
      ]
     },
     "metadata": {},
     "output_type": "display_data"
    },
    {
     "data": {
      "application/vnd.jupyter.widget-view+json": {
       "model_id": "bf8190df3ba34fd49ea762fceebd7ce1",
       "version_major": 2,
       "version_minor": 0
      },
      "text/plain": [
       "FloatText(value=1.0, description='Sekunda startowa:', style=DescriptionStyle(description_width='initial'))"
      ]
     },
     "metadata": {},
     "output_type": "display_data"
    },
    {
     "data": {
      "application/vnd.jupyter.widget-view+json": {
       "model_id": "3a763a99cb4e4e9db658b15c86182c39",
       "version_major": 2,
       "version_minor": 0
      },
      "text/plain": [
       "FloatText(value=1.0, description='Sekunda końcowa:', style=DescriptionStyle(description_width='initial'))"
      ]
     },
     "metadata": {},
     "output_type": "display_data"
    },
    {
     "data": {
      "application/vnd.jupyter.widget-view+json": {
       "model_id": "83fea1c175a24a50a0a56013bc4b501a",
       "version_major": 2,
       "version_minor": 0
      },
      "text/plain": [
       "interactive(children=(Dropdown(description='Typ', options=('Prostokąt', 'Trójkąt', 'Harmoniczny'), value='Pros…"
      ]
     },
     "metadata": {},
     "output_type": "display_data"
    }
   ],
   "source": [
    "i1 = widgets.FloatText(\n",
    "    style= {'description_width': 'initial'},\n",
    "    value=1,\n",
    "    description='Moment bezwładności 1:',\n",
    "    disabled=False\n",
    ")\n",
    "i2 = widgets.FloatText(\n",
    "    style= {'description_width': 'initial'},\n",
    "    value=1,\n",
    "    description='Moment bezwładności 2:',\n",
    "    disabled=False\n",
    ")\n",
    "n1 = widgets.FloatText(\n",
    "    style= {'description_width': 'initial'},\n",
    "    value=1,\n",
    "    description='Ilość zębów pierwszej przekładni:',\n",
    "    disabled=False\n",
    ")\n",
    "n2 = widgets.FloatText(\n",
    "    style= {'description_width': 'initial'},\n",
    "    value=1,\n",
    "    description='Ilość zębów drugiej przekładni:',\n",
    "    disabled=False\n",
    ")\n",
    "b1 =widgets.FloatText(\n",
    "    style= {'description_width': 'initial'},\n",
    "    value=0,\n",
    "    description='Współczynnik tarcia lepkiego 1:',\n",
    "    disabled=False\n",
    ")\n",
    "b2 = widgets.FloatText(\n",
    "    style= {'description_width': 'initial'},\n",
    "    value=0,\n",
    "    description='Współczynnik tarcia lepkiego 2:',\n",
    "    disabled=False\n",
    ")\n",
    "k = widgets.FloatText(\n",
    "    style= {'description_width': 'initial'},\n",
    "    value=1,\n",
    "    description='Współczynnik sprężystości:',\n",
    "    disabled=False\n",
    ")\n",
    "tau = widgets.FloatText(\n",
    "    style= {'description_width': 'initial'},\n",
    "    value=1,\n",
    "    description='Moment wejściowy:',\n",
    "    disabled=False\n",
    ")\n",
    "step = widgets.FloatText(\n",
    "    style= {'description_width': 'initial'},\n",
    "    value=1,\n",
    "    description='Krok symulacji w sekundach:',\n",
    "    disabled=False\n",
    ")\n",
    "time1 = widgets.FloatText(\n",
    "    style= {'description_width': 'initial'},\n",
    "    value=1,\n",
    "    description='Sekunda startowa:',\n",
    "    disabled=False\n",
    ")\n",
    "time2 = widgets.FloatText(\n",
    "    style= {'description_width': 'initial'},\n",
    "    value=1,\n",
    "    description='Sekunda końcowa:',\n",
    "    disabled=False\n",
    ")\n",
    "\n",
    "signal_des = widgets.Label(\n",
    "    value='Wybór sygnału:'\n",
    ")\n",
    "\n",
    "display(i1, i2, n1, n2 , b1 , b2, k , tau ,step , time1 , time2, signal_des)\n",
    "\n",
    "fill = widgets.FloatText(\n",
    "    style= {'description_width': 'initial'},\n",
    "    value=1,\n",
    "    description='Wypełnienie:',\n",
    "    disabled=False\n",
    ")\n",
    "\n",
    "freq = widgets.FloatText(\n",
    "    style= {'description_width': 'initial'},\n",
    "    value=1,\n",
    "    description='Częstotliwość:',\n",
    "    disabled=False\n",
    ")\n",
    "\n",
    "amp = widgets.FloatText(\n",
    "    style= {'description_width': 'initial'},\n",
    "    value=1,\n",
    "    description='Amplituda:',\n",
    "    disabled=False\n",
    ")\n",
    "\n",
    "phase = widgets.FloatText(\n",
    "    style= {'description_width': 'initial'},\n",
    "    value=1,\n",
    "    description='Faza:',\n",
    "    disabled=False\n",
    ")\n",
    "\n",
    "\n",
    "def f(Typ):\n",
    "    if Typ == 'Prostokąt':\n",
    "        display(freq,amp,fill)\n",
    "    elif Typ == 'Harmoniczny':\n",
    "        display(freq, amp, phase)\n",
    "    elif Typ == 'Trójkąt':\n",
    "        display(freq, amp)\n",
    "input = widgets.interact(f, Typ=['Prostokąt','Trójkąt', 'Harmoniczny']);\n",
    "\n"
   ]
  }
 ],
 "metadata": {
  "kernelspec": {
   "display_name": "Python 3",
   "language": "python",
   "name": "python3"
  },
  "language_info": {
   "codemirror_mode": {
    "name": "ipython",
    "version": 3
   },
   "file_extension": ".py",
   "mimetype": "text/x-python",
   "name": "python",
   "nbconvert_exporter": "python",
   "pygments_lexer": "ipython3",
   "version": "3.8.0"
  },
  "orig_nbformat": 4,
  "vscode": {
   "interpreter": {
    "hash": "2b68180c4eb022a4b94576eebab5ad299a0c046499659638d77580c4e0e572c1"
   }
  }
 },
 "nbformat": 4,
 "nbformat_minor": 2
}
